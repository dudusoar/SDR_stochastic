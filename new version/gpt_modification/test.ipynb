{
 "cells": [
  {
   "cell_type": "code",
   "execution_count": 3,
   "id": "initial_id",
   "metadata": {
    "collapsed": true,
    "ExecuteTime": {
     "end_time": "2024-09-09T17:52:43.722725200Z",
     "start_time": "2024-09-09T17:52:43.686139400Z"
    }
   },
   "outputs": [
    {
     "ename": "AttributeError",
     "evalue": "'RealMap' object has no attribute 'speed'",
     "output_type": "error",
     "traceback": [
      "\u001B[1;31m---------------------------------------------------------------------------\u001B[0m",
      "\u001B[1;31mAttributeError\u001B[0m                            Traceback (most recent call last)",
      "Cell \u001B[1;32mIn[3], line 30\u001B[0m\n\u001B[0;32m     28\u001B[0m time_window_length \u001B[38;5;241m=\u001B[39m \u001B[38;5;241m30\u001B[39m\n\u001B[0;32m     29\u001B[0m extra_time \u001B[38;5;241m=\u001B[39m \u001B[38;5;241m10\u001B[39m\n\u001B[1;32m---> 30\u001B[0m pdptw_instance \u001B[38;5;241m=\u001B[39m \u001B[43mPDPTWInstance\u001B[49m\u001B[43m(\u001B[49m\u001B[43mreal_map\u001B[49m\u001B[43m,\u001B[49m\u001B[43m \u001B[49m\u001B[43mdemand_gen\u001B[49m\u001B[43m,\u001B[49m\u001B[43m \u001B[49m\u001B[43mtime_window_length\u001B[49m\u001B[43m,\u001B[49m\u001B[43m \u001B[49m\u001B[43mextra_time\u001B[49m\u001B[43m)\u001B[49m\n\u001B[0;32m     32\u001B[0m \u001B[38;5;66;03m# 查看生成的订单\u001B[39;00m\n\u001B[0;32m     33\u001B[0m orders_df \u001B[38;5;241m=\u001B[39m pdptw_instance\u001B[38;5;241m.\u001B[39mget_orders()\n",
      "File \u001B[1;32mE:\\code\\SDR_stochastic\\SDR_stochastic\\new version\\gpt_modification\\instances.py:23\u001B[0m, in \u001B[0;36mPDPTWInstance.__init__\u001B[1;34m(self, real_map, demand_gen, time_window_length, extra_time)\u001B[0m\n\u001B[0;32m     21\u001B[0m \u001B[38;5;28mself\u001B[39m\u001B[38;5;241m.\u001B[39mextra_time \u001B[38;5;241m=\u001B[39m extra_time\n\u001B[0;32m     22\u001B[0m \u001B[38;5;28mself\u001B[39m\u001B[38;5;241m.\u001B[39mnode_type_dict \u001B[38;5;241m=\u001B[39m real_map\u001B[38;5;241m.\u001B[39mnode_type_dict\n\u001B[1;32m---> 23\u001B[0m \u001B[38;5;28mself\u001B[39m\u001B[38;5;241m.\u001B[39mtime_matrix \u001B[38;5;241m=\u001B[39m real_map\u001B[38;5;241m.\u001B[39mdistance_matrix \u001B[38;5;241m/\u001B[39m \u001B[43mreal_map\u001B[49m\u001B[38;5;241;43m.\u001B[39;49m\u001B[43mspeed\u001B[49m  \u001B[38;5;66;03m# Convert distance to time\u001B[39;00m\n\u001B[0;32m     25\u001B[0m \u001B[38;5;66;03m# Order-related information\u001B[39;00m\n\u001B[0;32m     26\u001B[0m \u001B[38;5;28mself\u001B[39m\u001B[38;5;241m.\u001B[39mtotal_number_orders \u001B[38;5;241m=\u001B[39m \u001B[38;5;28mself\u001B[39m\u001B[38;5;241m.\u001B[39mcalculate_total_orders()\n",
      "\u001B[1;31mAttributeError\u001B[0m: 'RealMap' object has no attribute 'speed'"
     ]
    }
   ],
   "source": []
  },
  {
   "cell_type": "code",
   "outputs": [],
   "source": [],
   "metadata": {
    "collapsed": false
   },
   "id": "8fc63ea8514437d7"
  }
 ],
 "metadata": {
  "kernelspec": {
   "display_name": "Python 3",
   "language": "python",
   "name": "python3"
  },
  "language_info": {
   "codemirror_mode": {
    "name": "ipython",
    "version": 2
   },
   "file_extension": ".py",
   "mimetype": "text/x-python",
   "name": "python",
   "nbconvert_exporter": "python",
   "pygments_lexer": "ipython2",
   "version": "2.7.6"
  }
 },
 "nbformat": 4,
 "nbformat_minor": 5
}
