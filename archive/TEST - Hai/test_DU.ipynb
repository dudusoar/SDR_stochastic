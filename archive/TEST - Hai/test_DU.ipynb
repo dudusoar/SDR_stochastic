{
 "cells": [
  {
   "cell_type": "markdown",
   "metadata": {},
   "source": [
    "# Scenario"
   ]
  },
  {
   "cell_type": "code",
   "outputs": [
    {
     "ename": "ModuleNotFoundError",
     "evalue": "No module named 'solver'",
     "output_type": "error",
     "traceback": [
      "\u001B[1;31m---------------------------------------------------------------------------\u001B[0m",
      "\u001B[1;31mModuleNotFoundError\u001B[0m                       Traceback (most recent call last)",
      "Cell \u001B[1;32mIn[1], line 7\u001B[0m\n\u001B[0;32m      5\u001B[0m \u001B[38;5;28;01mfrom\u001B[39;00m \u001B[38;5;21;01minstance\u001B[39;00m \u001B[38;5;28;01mimport\u001B[39;00m PDPTWInstance\n\u001B[0;32m      6\u001B[0m \u001B[38;5;28;01mfrom\u001B[39;00m \u001B[38;5;21;01msolution\u001B[39;00m \u001B[38;5;28;01mimport\u001B[39;00m PDPTWSolution\n\u001B[1;32m----> 7\u001B[0m \u001B[38;5;28;01mfrom\u001B[39;00m \u001B[38;5;21;01msolver\u001B[39;00m \u001B[38;5;28;01mimport\u001B[39;00m greedy_insertion_init\n\u001B[0;32m      8\u001B[0m \u001B[38;5;28;01mimport\u001B[39;00m \u001B[38;5;21;01mmatplotlib\u001B[39;00m\u001B[38;5;21;01m.\u001B[39;00m\u001B[38;5;21;01mpyplot\u001B[39;00m \u001B[38;5;28;01mas\u001B[39;00m \u001B[38;5;21;01mplt\u001B[39;00m\n\u001B[0;32m     10\u001B[0m n \u001B[38;5;241m=\u001B[39m \u001B[38;5;241m20\u001B[39m \u001B[38;5;66;03m#number of orders\u001B[39;00m\n",
      "\u001B[1;31mModuleNotFoundError\u001B[0m: No module named 'solver'"
     ]
    }
   ],
   "source": [
    "import random\n",
    "from copy import deepcopy\n",
    "import numpy as np\n",
    "from copy import deepcopy\n",
    "from instance import PDPTWInstance\n",
    "from solution import PDPTWSolution\n",
    "from solver import greedy_insertion_init\n",
    "import matplotlib.pyplot as plt\n",
    "\n",
    "n = 20 #number of orders\n",
    "map_size = 2  \n",
    "speed = 4 \n",
    "extra_time = 10 \n",
    "num_vehicles = 5\n",
    "vehicle_capacity = 6 \n",
    "battery_capacity = 255  \n",
    "battery_consume_rate = 1\n",
    "penalty = 5\n",
    "gamma = 100\n",
    "\n",
    "instance = PDPTWInstance(n, map_size, speed, extra_time, gamma, seed=1234)\n",
    "instance.plot_instance()"
   ],
   "metadata": {
    "collapsed": false,
    "ExecuteTime": {
     "end_time": "2024-09-16T18:07:43.850158100Z",
     "start_time": "2024-09-16T18:07:43.142553Z"
    }
   },
   "execution_count": 1
  },
  {
   "cell_type": "markdown",
   "metadata": {},
   "source": []
  }
 ],
 "metadata": {
  "kernelspec": {
   "display_name": "tf",
   "language": "python",
   "name": "python3"
  },
  "language_info": {
   "codemirror_mode": {
    "name": "ipython",
    "version": 3
   },
   "file_extension": ".py",
   "mimetype": "text/x-python",
   "name": "python",
   "nbconvert_exporter": "python",
   "pygments_lexer": "ipython3",
   "version": "3.11.3"
  }
 },
 "nbformat": 4,
 "nbformat_minor": 2
}
