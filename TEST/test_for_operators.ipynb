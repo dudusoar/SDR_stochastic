{
 "cells": [
  {
   "cell_type": "markdown",
   "metadata": {},
   "source": [
    "# initialization"
   ]
  },
  {
   "cell_type": "code",
   "execution_count": 1,
   "metadata": {},
   "outputs": [],
   "source": [
    "import random\n",
    "import numpy as np\n",
    "from instance import PDPTWInstance\n",
    "from solution import PDPTWSolution\n",
    "from solver import greedy_insertion_init\n",
    "from operators import RemovalOperators, RepairOperators, ReverseOperators\n",
    "\n",
    "# 参数设置\n",
    "n = 10  # pickup点的数量\n",
    "map_size = 2  # 地图大小\n",
    "speed = 4  # 车辆速度\n",
    "extra_time = 10  # delivery点时间窗口起始时间的额外时间\n",
    "num_vehicles = 5  # 车辆数量\n",
    "vehicle_capacity = 5  # 车辆容量\n",
    "battery_capacity = 240  # 电池容量\n",
    "battery_consume_rate = 1  # 电池消耗率\n",
    "\n",
    "instance = PDPTWInstance(n, map_size, speed, extra_time, seed=1234)\n",
    "# instance.plot_instance()\n",
    "# df = instance.to_dataframe()"
   ]
  },
  {
   "cell_type": "code",
   "execution_count": 2,
   "metadata": {},
   "outputs": [
    {
     "data": {
      "text/plain": [
       "[[0, 7, 17, 6, 16, 8, 4, 14, 18, 9, 19, 0],\n",
       " [0, 2, 12, 5, 15, 10, 20, 0],\n",
       " [0, 3, 1, 11, 13, 0],\n",
       " [0, 0],\n",
       " [0, 0]]"
      ]
     },
     "execution_count": 2,
     "metadata": {},
     "output_type": "execute_result"
    }
   ],
   "source": [
    "initial_solution = greedy_insertion_init(instance, num_vehicles, vehicle_capacity, battery_capacity, battery_consume_rate)\n",
    "initial_solution.routes"
   ]
  },
  {
   "cell_type": "code",
   "execution_count": 3,
   "metadata": {},
   "outputs": [
    {
     "data": {
      "text/plain": [
       "683.3159507313269"
      ]
     },
     "execution_count": 3,
     "metadata": {},
     "output_type": "execute_result"
    }
   ],
   "source": [
    "initial_solution.objective_function()"
   ]
  },
  {
   "cell_type": "markdown",
   "metadata": {},
   "source": [
    "# Removal"
   ]
  },
  {
   "cell_type": "code",
   "execution_count": 4,
   "metadata": {},
   "outputs": [
    {
     "data": {
      "text/plain": [
       "[[0, 6, 16, 8, 4, 14, 18, 9, 19, 0],\n",
       " [0, 2, 12, 10, 20, 0],\n",
       " [0, 1, 11, 0],\n",
       " [0, 0],\n",
       " [0, 0]]"
      ]
     },
     "execution_count": 4,
     "metadata": {},
     "output_type": "execute_result"
    }
   ],
   "source": [
    "removal_operators = RemovalOperators(initial_solution)\n",
    "removed_solution, removed_requests = removal_operators.shaw_removal(num_remove=3,p=3)\n",
    "removed_solution.routes"
   ]
  },
  {
   "cell_type": "code",
   "execution_count": 5,
   "metadata": {},
   "outputs": [
    {
     "data": {
      "text/plain": [
       "[(3, 13), (7, 17), (5, 15)]"
      ]
     },
     "execution_count": 5,
     "metadata": {},
     "output_type": "execute_result"
    }
   ],
   "source": [
    "removed_requests"
   ]
  },
  {
   "cell_type": "markdown",
   "metadata": {},
   "source": [
    "# Repair"
   ]
  },
  {
   "cell_type": "code",
   "execution_count": 13,
   "metadata": {},
   "outputs": [],
   "source": [
    "repair_operators = RepairOperators(removed_solution)\n",
    "repair_solution = repair_operators.regret_insertion(removed_requests, k=3)"
   ]
  },
  {
   "cell_type": "code",
   "execution_count": 14,
   "metadata": {},
   "outputs": [
    {
     "data": {
      "text/plain": [
       "[[0, 6, 16, 8, 4, 14, 18, 9, 19, 0],\n",
       " [0, 2, 12, 10, 20, 0],\n",
       " [0, 1, 11, 0],\n",
       " [0, 0],\n",
       " [0, 0]]"
      ]
     },
     "execution_count": 14,
     "metadata": {},
     "output_type": "execute_result"
    }
   ],
   "source": [
    "repair_solution.routes"
   ]
  },
  {
   "cell_type": "code",
   "execution_count": 11,
   "metadata": {},
   "outputs": [
    {
     "data": {
      "text/plain": [
       "578.1371728214853"
      ]
     },
     "execution_count": 11,
     "metadata": {},
     "output_type": "execute_result"
    }
   ],
   "source": [
    "repair_solution.objective_function()"
   ]
  },
  {
   "cell_type": "code",
   "execution_count": 12,
   "metadata": {},
   "outputs": [
    {
     "data": {
      "text/plain": [
       "True"
      ]
     },
     "execution_count": 12,
     "metadata": {},
     "output_type": "execute_result"
    }
   ],
   "source": [
    "repair_solution.is_feasible()"
   ]
  },
  {
   "cell_type": "markdown",
   "metadata": {},
   "source": [
    "# Reverse"
   ]
  },
  {
   "cell_type": "code",
   "execution_count": null,
   "metadata": {},
   "outputs": [],
   "source": [
    "reverse_operators = ReverseOperators(initial_solution)\n",
    "optimized_solution = reverse_operators.two_opt(max_iterations=100)\n",
    "optimized_solution.objective_function()"
   ]
  },
  {
   "cell_type": "markdown",
   "metadata": {},
   "source": [
    "# All"
   ]
  },
  {
   "cell_type": "markdown",
   "metadata": {},
   "source": [
    "## 1"
   ]
  },
  {
   "cell_type": "code",
   "execution_count": 7,
   "metadata": {},
   "outputs": [],
   "source": [
    "class RepairOperators:\n",
    "    def __init__(self, solution):\n",
    "        self.solution = solution\n",
    "        self.instance = solution.instance\n",
    "        self.insertion_log = []  # 用于记录插入日志\n",
    "\n",
    "    def greedy_insertion(self, removed_pairs):\n",
    "        for pickup, delivery in removed_pairs:\n",
    "            best_cost = float('inf')\n",
    "            best_route = None\n",
    "            best_insert_position = None\n",
    "\n",
    "            for vehicle_id, route in enumerate(self.solution.routes):\n",
    "                for i in range(1, len(route)):\n",
    "                    for j in range(i, len(route) + 1):\n",
    "                        temp_route = route[:i] + [pickup] + route[i:j] + [delivery] + route[j:]\n",
    "                        temp_solution = deepcopy(self.solution)\n",
    "                        temp_solution.routes[vehicle_id] = temp_route\n",
    "                        temp_solution.update_all()\n",
    "\n",
    "                        if temp_solution.is_feasible():\n",
    "                            cost = temp_solution.objective_function()\n",
    "                            if cost < best_cost:\n",
    "                                best_cost = cost\n",
    "                                best_route = vehicle_id\n",
    "                                best_insert_position = (i, j)\n",
    "\n",
    "            if best_route is not None and best_insert_position is not None:\n",
    "                i, j = best_insert_position\n",
    "                self.solution.routes[best_route] = self.solution.routes[best_route][:i] + [pickup] + self.solution.routes[best_route][i:j] + [delivery] + self.solution.routes[best_route][j:]\n",
    "                self.solution.update_all()\n",
    "                self.record_insertion(best_route, pickup, delivery, best_insert_position)  # 记录插入位置\n",
    "\n",
    "    def regret_insertion(self, removed_pairs, k):\n",
    "        while removed_pairs:\n",
    "            max_regret = float('-inf')\n",
    "            best_request = None\n",
    "            best_route = None\n",
    "            best_insert_position = None\n",
    "\n",
    "            for pickup, delivery in removed_pairs:\n",
    "                insertion_costs = []\n",
    "                for vehicle_id, route in enumerate(self.solution.routes):\n",
    "                    for i in range(1, len(route)):\n",
    "                        for j in range(i, len(route) + 1):\n",
    "                            temp_route = route[:i] + [pickup] + route[i:j] + [delivery] + route[j:]\n",
    "                            temp_solution = deepcopy(self.solution)\n",
    "                            temp_solution.routes[vehicle_id] = temp_route\n",
    "                            temp_solution.update_all()\n",
    "\n",
    "                            if temp_solution.is_feasible():\n",
    "                                cost = temp_solution.objective_function()\n",
    "                                insertion_costs.append((cost, vehicle_id, i, j))\n",
    "\n",
    "                # insertion_costs.sort(key=lambda x: x[0])\n",
    "                # if len(insertion_costs) >= k:\n",
    "                #     regret = insertion_costs[k-1][0] - insertion_costs[0][0]\n",
    "                # else:\n",
    "                #     regret = insertion_costs[-1][0] - insertion_costs[0][0]\n",
    "                n = len(insertion_costs)\n",
    "                if n > 0:\n",
    "                    insertion_costs.sort(key=lambda x: x[0])\n",
    "                    if n >= k:\n",
    "                        regret = insertion_costs[k-1][0] - insertion_costs[0][0]\n",
    "                    else:\n",
    "                        if n == 1:\n",
    "                            regret = 0\n",
    "                        else:\n",
    "                            regret = insertion_costs[-1][0] - insertion_costs[0][0]\n",
    "                else:\n",
    "                    # when insertion_costs is empty\n",
    "                    regret = float('-inf')\n",
    "\n",
    "                if regret > max_regret:\n",
    "                    max_regret = regret\n",
    "                    best_request = (pickup, delivery)\n",
    "                    best_route = insertion_costs[0][1]\n",
    "                    best_insert_position = (insertion_costs[0][2], insertion_costs[0][3])\n",
    "\n",
    "            if best_request is not None and best_route is not None and best_insert_position is not None:\n",
    "                removed_pairs.remove(best_request)\n",
    "                pickup, delivery = best_request\n",
    "                i, j = best_insert_position\n",
    "                self.solution.routes[best_route] = self.solution.routes[best_route][:i] + [pickup] + self.solution.routes[best_route][i:j] + [delivery] + self.solution.routes[best_route][j:]\n",
    "                self.solution.update_all()\n",
    "                self.record_insertion(best_route, pickup, delivery, best_insert_position)  # 记录插入位置\n",
    "\n",
    "        \n",
    "    def record_insertion(self, vehicle_id, pickup, delivery, position):\n",
    "        \"\"\"\n",
    "        记录插入位置\n",
    "        vehicle_id: 车辆ID\n",
    "        pickup: 取货点\n",
    "        delivery: 送货点\n",
    "        position: 插入位置 (i, j)\n",
    "        \"\"\"\n",
    "        self.insertion_log.append({\n",
    "        'vehicle_id': vehicle_id,\n",
    "        'pickup': pickup,\n",
    "        'delivery': delivery,\n",
    "        'position': position\n",
    "        })\n",
    "\n",
    "    def get_insertion_log(self):\n",
    "        \"\"\"\n",
    "        获取插入日志\n",
    "        :return: 插入日志\n",
    "        \"\"\"\n",
    "        return self.insertion_log\n",
    "        "
   ]
  },
  {
   "cell_type": "markdown",
   "metadata": {},
   "source": [
    "## 2"
   ]
  },
  {
   "cell_type": "code",
   "execution_count": null,
   "metadata": {},
   "outputs": [],
   "source": [
    "class RepairOperators:\n",
    "    def __init__(self, solution):\n",
    "        self.solution = deepcopy(solution)\n",
    "        self.instance = solution.instance\n",
    "        self.insertion_log = []  # 用于记录插入日志\n",
    "\n",
    "    #*****************************************************************************************************\n",
    "    #Start of greedy insertion\n",
    "    def greedy_insertion(self, removed_pairs):\n",
    "        # loop the removed pairs\n",
    "        for pickup, delivery in removed_pairs:\n",
    "            best_cost = float('inf')\n",
    "            best_route = None\n",
    "            best_insert_position = None\n",
    "            # loop each route to find a suitable location to insert \n",
    "            for vehicle_id, route in enumerate(self.solution.routes):\n",
    "                for i in range(1, len(route)):\n",
    "                    for j in range(i, len(route) + 1):\n",
    "                        temp_route = route[:i] + [pickup] + route[i:j] + [delivery] + route[j:]\n",
    "                        temp_solution = deepcopy(self.solution)\n",
    "                        temp_solution.routes[vehicle_id] = temp_route\n",
    "                        temp_solution.update_all()\n",
    "\n",
    "                        if temp_solution.is_feasible():\n",
    "                            cost = temp_solution.objective_function()\n",
    "                            if cost < best_cost:\n",
    "                                best_cost = cost\n",
    "                                best_route = vehicle_id\n",
    "                                best_insert_position = (i, j)\n",
    "            \n",
    "            # update the self.solution\n",
    "            if best_route is not None and best_insert_position is not None:\n",
    "                self.insert_single_request(pickup,delivery,best_route, best_insert_position)\n",
    "        \n",
    "        return self.solution\n",
    "    #*****************************************************************************************************\n",
    "    #End of greedy insertion\n",
    "\n",
    "    #*****************************************************************************************************\n",
    "    #Start of regret insertion\n",
    "    def regret_insertion(self, removed_pairs, k):\n",
    "\n",
    "        while removed_pairs:\n",
    "            max_regret = float('-inf')\n",
    "            best_request = None\n",
    "            best_route = None\n",
    "            best_insert_position = None\n",
    "\n",
    "            for pickup, delivery in removed_pairs:\n",
    "                insertion_costs = []\n",
    "                for vehicle_id, route in enumerate(self.solution.routes):\n",
    "                    for i in range(1, len(route)):\n",
    "                        for j in range(i, len(route) + 1):\n",
    "                            temp_route = route[:i] + [pickup] + route[i:j] + [delivery] + route[j:]\n",
    "                            temp_solution = deepcopy(self.solution)\n",
    "                            temp_solution.routes[vehicle_id] = temp_route\n",
    "                            temp_solution.update_all()\n",
    "\n",
    "                            if temp_solution.is_feasible():\n",
    "                                cost = temp_solution.objective_function()\n",
    "                                insertion_costs.append((cost, vehicle_id, i, j))\n",
    "                \n",
    "                n = len(insertion_costs)\n",
    "                if n > 0:\n",
    "                    insertion_costs.sort(key=lambda x: x[0])\n",
    "                    if n >= k:\n",
    "                        regret = insertion_costs[k-1][0] - insertion_costs[0][0]\n",
    "                    else:\n",
    "                        if n == 1:\n",
    "                            regret = 0\n",
    "                        else:\n",
    "                            regret = insertion_costs[-1][0] - insertion_costs[0][0]\n",
    "                else:\n",
    "                    # when insertion_costs is empty\n",
    "                    regret = float('-inf')\n",
    "\n",
    "                if regret > max_regret:\n",
    "                    max_regret = regret\n",
    "                    best_request = (pickup, delivery)\n",
    "                    best_route = insertion_costs[0][1]\n",
    "                    best_insert_position = (insertion_costs[0][2], insertion_costs[0][3])\n",
    "                \n",
    "\n",
    "            if best_request is not None and best_route is not None and best_insert_position is not None:\n",
    "                removed_pairs.remove(best_request)\n",
    "                pickup, delivery = best_request\n",
    "                self.insert_single_request(pickup,delivery,best_route, best_insert_position)\n",
    "                \n",
    "        return self.solution\n",
    "        \n",
    "    #*****************************************************************************************************\n",
    "    #End of regret insertion\n",
    "    def insert_single_request(self, pickup, delivery, vehicle_id, insert_position):\n",
    "        i, j = insert_position\n",
    "        self.solution.routes[vehicle_id] = self.solution.routes[vehicle_id][:i] \\\n",
    "                                           + [pickup] + self.solution.routes[vehicle_id][i:j] + [delivery] \\\n",
    "                                           + self.solution.routes[vehicle_id][j:]\n",
    "        self.solution.update_all() # update all of the things\n",
    "        self.record_insertion(vehicle_id, pickup, delivery, insert_position)  # 记录插入位置\n",
    "    \n",
    "    def record_insertion(self, vehicle_id, pickup, delivery, position):\n",
    "        \"\"\"\n",
    "        记录插入位置\n",
    "        vehicle_id: 车辆ID\n",
    "        pickup: 取货点\n",
    "        delivery: 送货点\n",
    "        position: 插入位置 (i, j)\n",
    "        \"\"\"\n",
    "        self.insertion_log.append({\n",
    "        'vehicle_id': vehicle_id,\n",
    "        'pickup': pickup,\n",
    "        'delivery': delivery,\n",
    "        'position': position\n",
    "        })\n",
    "\n",
    "    def get_insertion_log(self):\n",
    "        \"\"\"\n",
    "        获取插入日志\n",
    "        :return: 插入日志\n",
    "        \"\"\"\n",
    "        return self.insertion_log\n",
    "        "
   ]
  },
  {
   "cell_type": "code",
   "execution_count": 8,
   "metadata": {},
   "outputs": [],
   "source": [
    "import random\n",
    "import numpy as np\n",
    "from copy import deepcopy\n",
    "from instance import PDPTWInstance\n",
    "from solution import PDPTWSolution\n",
    "from solver import greedy_insertion_init\n",
    "from operators import RemovalOperators\n",
    "\n",
    "# 参数设置\n",
    "n = 10  # pickup点的数量\n",
    "map_size = 2  # 地图大小\n",
    "speed = 4  # 车辆速度\n",
    "extra_time = 10  # delivery点时间窗口起始时间的额外时间\n",
    "num_vehicles = 5  # 车辆数量\n",
    "vehicle_capacity = 5  # 车辆容量\n",
    "battery_capacity = 240  # 电池容量\n",
    "battery_consume_rate = 1  # 电池消耗率\n",
    "\n",
    "instance = PDPTWInstance(n, map_size, speed, extra_time, seed=1234)\n",
    "initial_solution = greedy_insertion_init(instance, num_vehicles, vehicle_capacity, battery_capacity, battery_consume_rate)\n",
    "removal_operators = RemovalOperators(initial_solution)\n",
    "removed_solution, removed_requests = removal_operators.shaw_removal(num_remove=3,p=3)"
   ]
  },
  {
   "cell_type": "code",
   "execution_count": 9,
   "metadata": {},
   "outputs": [
    {
     "data": {
      "text/plain": [
       "[(3, 13), (7, 17), (5, 15)]"
      ]
     },
     "execution_count": 9,
     "metadata": {},
     "output_type": "execute_result"
    }
   ],
   "source": [
    "removed_requests"
   ]
  },
  {
   "cell_type": "code",
   "execution_count": 10,
   "metadata": {},
   "outputs": [],
   "source": [
    "repair_operators = RepairOperators(removed_solution)\n",
    "repair_operators.regret_insertion(removed_requests,k=2)"
   ]
  },
  {
   "cell_type": "code",
   "execution_count": 11,
   "metadata": {},
   "outputs": [
    {
     "data": {
      "text/plain": [
       "[{'vehicle_id': 0, 'pickup': 7, 'delivery': 17, 'position': (1, 2)},\n",
       " {'vehicle_id': 2, 'pickup': 5, 'delivery': 15, 'position': (2, 2)},\n",
       " {'vehicle_id': 2, 'pickup': 3, 'delivery': 13, 'position': (1, 4)}]"
      ]
     },
     "execution_count": 11,
     "metadata": {},
     "output_type": "execute_result"
    }
   ],
   "source": [
    "repair_operators.insertion_log"
   ]
  },
  {
   "cell_type": "code",
   "execution_count": 12,
   "metadata": {},
   "outputs": [
    {
     "data": {
      "text/plain": [
       "[[0, 7, 6, 17, 16, 8, 4, 14, 18, 9, 19, 0],\n",
       " [0, 2, 12, 10, 20, 0],\n",
       " [0, 3, 1, 5, 15, 13, 11, 0],\n",
       " [0, 0],\n",
       " [0, 0]]"
      ]
     },
     "execution_count": 12,
     "metadata": {},
     "output_type": "execute_result"
    }
   ],
   "source": [
    "removed_solution.routes"
   ]
  },
  {
   "cell_type": "code",
   "execution_count": null,
   "metadata": {},
   "outputs": [],
   "source": []
  }
 ],
 "metadata": {
  "kernelspec": {
   "display_name": "Python 3",
   "language": "python",
   "name": "python3"
  },
  "language_info": {
   "codemirror_mode": {
    "name": "ipython",
    "version": 3
   },
   "file_extension": ".py",
   "mimetype": "text/x-python",
   "name": "python",
   "nbconvert_exporter": "python",
   "pygments_lexer": "ipython3",
   "version": "3.11.3"
  }
 },
 "nbformat": 4,
 "nbformat_minor": 2
}
