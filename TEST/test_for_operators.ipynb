{
 "cells": [
  {
   "cell_type": "markdown",
   "metadata": {},
   "source": [
    "# Removel"
   ]
  },
  {
   "cell_type": "code",
   "outputs": [],
   "source": [
    "class RemovalOperators:\n",
    "    '''\n",
    "    1.shaw removal\n",
    "    -  calculate_similarity\n",
    "    -  get_arrival_time\n",
    "    2.random removal\n",
    "    3.worst removal\n",
    "    - calculate_contribution\n",
    "    4.remove_requests\n",
    "    '''\n",
    "    def __init__(self, solution):\n",
    "        self.solution = solution\n",
    "        self.instance = solution.instance \n",
    "        \n",
    "    #*****************************************************************************************************\n",
    "    #Start of shaw removal\n",
    "    def shaw_removal(self, num_remove, p):\n",
    "        removed_requests = []\n",
    "        remaining_requests = list(range(1, self.instance.n+1))\n",
    "\n",
    "        # Select a request randomly\n",
    "        initial_request = random.choice(remaining_requests)\n",
    "        removed_requests.append(initial_request)\n",
    "        remaining_requests.remove(initial_request)\n",
    "\n",
    "        # Normalization factor\n",
    "        max_distance = np.max(self.instance.distance_matrix)\n",
    "        max_arrive_time = np.max([np.max(arrival_time) for arrival_time in self.solution.route_arrival_times])\n",
    "\n",
    "        while len(removed_requests) < num_remove:\n",
    "            last_removed = random.choice(removed_requests)\n",
    "            L = [req for req in remaining_requests]\n",
    "            L.sort(key = lambda req: self.calculate_similarity(last_removed, req, max_distance,max_arrive_time))\n",
    "\n",
    "            y = random.random()\n",
    "            selected_request = L[int(y**p*len(L))]\n",
    "            removed_requests.append(selected_request)\n",
    "            remaining_requests.remove(selected_request)\n",
    "        \n",
    "        return self.remove_requests(removed_requests)\n",
    "    \n",
    "    def calculate_similarity(self,req1,req2,max_distance,max_arrive_time):\n",
    "        '''for shaw_removal'''\n",
    "        pickup1, delivery1 = req1, req1 + self.instance.n\n",
    "        pickup2, delivery2 = req2, req2 + self.instance.n\n",
    "\n",
    "        dist_pickup = self.instance.distance_matrix[pickup1][pickup2] / max_distance\n",
    "        dist_delivery = self.instance.distance_matrix[delivery1][delivery2] / max_distance\n",
    "\n",
    "        arrival_time_pickup = (self.get_arrival_time(pickup1) - self.get_arrival_time(pickup2))/ max_arrive_time\n",
    "        arrival_time_delivery = (self.get_arrival_time(delivery1) - self.get_arrival_time(delivery2)) / max_arrive_time\n",
    "\n",
    "        return  dist_pickup + dist_delivery + arrival_time_pickup +  arrival_time_delivery\n",
    "    \n",
    "    def get_arrival_time(self, node):\n",
    "        '''\n",
    "        for shaw_removal\n",
    "        get the arrival time of the node\n",
    "        '''\n",
    "        for vehicle_id, route in enumerate(self.solution.routes):\n",
    "            if node in route:\n",
    "                return self.solution.route_arrival_times[vehicle_id][route.index(node)]\n",
    "        return None\n",
    "    #*****************************************************************************************************\n",
    "    #End of shaw removal\n",
    "    \n",
    "    #*****************************************************************************************************\n",
    "    #Start of random removal\n",
    "    def random_removal(self, num_remove):\n",
    "        removed_requests = random.sample(range(1, self.instance.n + 1), num_remove)\n",
    "        return self.remove_requests(removed_requests)\n",
    "    #*****************************************************************************************************\n",
    "    #End of random removal\n",
    "    \n",
    "    #*****************************************************************************************************\n",
    "    #Start of worst removal\n",
    "    def worst_removal(self, num_remove):\n",
    "        contributions = [(req, self.calculate_contribution(req)) for req in range(1, self.instance.n + 1)]\n",
    "        contributions.sort(key=lambda x: x[1], reverse=True)\n",
    "        removed_requests = [req for req, _ in contributions[:num_remove]]\n",
    "        #print(contributions)\n",
    "        return self.remove_requests(removed_requests)\n",
    "\n",
    "    def calculate_contribution(self, req):\n",
    "        '''for  worst_removal'''\n",
    "        temp_solution = deepcopy(self.solution)\n",
    "        pickup, delivery = req, req + self.instance.n\n",
    "\n",
    "        # remove the pickup and delivery points\n",
    "        for route in temp_solution.routes:\n",
    "            if pickup in route:\n",
    "                route.remove(pickup)\n",
    "                route.remove(delivery)\n",
    "\n",
    "        # update\n",
    "        temp_solution.calculate_all()\n",
    "        original_objective = self.solution.objective_function()\n",
    "        new_objective = temp_solution.objective_function()\n",
    "\n",
    "        # calculate the contribution\n",
    "        contribution = original_objective - new_objective\n",
    "        return contribution\n",
    "        #*****************************************************************************************************\n",
    "        #End of worst removal\n",
    "\n",
    "    def remove_requests(self, requests):\n",
    "        new_solution = deepcopy(self.solution)\n",
    "        #removed_pairs = []\n",
    "        \n",
    "        for request in requests:\n",
    "            pickup_node, delivery_node = request, request + self.instance.n\n",
    "            for route in new_solution.routes:\n",
    "                if pickup_node in route:\n",
    "                    route.remove(pickup_node)\n",
    "                    route.remove(delivery_node)\n",
    "\n",
    "            #removed_pairs.append((pickup_node, delivery_node))\n",
    "            new_solution.update_all() # update all of the things\n",
    "        \n",
    "        #return new_solution, removed_pairs\n",
    "        return new_solution"
   ],
   "metadata": {
    "collapsed": false,
    "ExecuteTime": {
     "end_time": "2024-06-27T01:47:44.042801500Z",
     "start_time": "2024-06-27T01:47:44.025007500Z"
    }
   },
   "execution_count": 1
  },
  {
   "cell_type": "markdown",
   "source": [
    "# Repair"
   ],
   "metadata": {
    "collapsed": false
   }
  },
  {
   "cell_type": "code",
   "execution_count": 1,
   "metadata": {},
   "outputs": [],
   "source": [
    "from copy import deepcopy\n",
    "class RepairOperators:\n",
    "    def __init__(self, solution):\n",
    "        self.solution = deepcopy(solution)\n",
    "        self.instance = solution.instance\n",
    "        self.insertion_log = []  # record\n",
    "\n",
    "    #*****************************************************************************************************\n",
    "    #Start of greedy insertion\n",
    "    def greedy_insertion(self, removed_pairs):\n",
    "        # loop the removed pairs\n",
    "        for pickup, delivery in removed_pairs:\n",
    "            best_cost = float('inf')\n",
    "            best_route = None\n",
    "            best_insert_position = None\n",
    "            # loop each route to find a suitable location to insert \n",
    "            for vehicle_id, route in enumerate(self.solution.routes):\n",
    "                for i in range(1, len(route)):\n",
    "                    for j in range(i, len(route)):\n",
    "                        temp_route = route[:i] + [pickup] + route[i:j] + [delivery] + route[j:]\n",
    "                        temp_solution = deepcopy(self.solution)\n",
    "                        temp_solution.routes[vehicle_id] = temp_route\n",
    "                        temp_solution.update_all()\n",
    "\n",
    "                        if temp_solution.is_feasible():\n",
    "                            cost = temp_solution.objective_function()\n",
    "                            if cost < best_cost:\n",
    "                                best_cost = cost\n",
    "                                best_route = vehicle_id\n",
    "                                best_insert_position = (i, j)\n",
    "            \n",
    "            # update the self.solution\n",
    "            if best_route is not None and best_insert_position is not None:\n",
    "                self.insert_single_request(pickup,delivery,best_route, best_insert_position)\n",
    "        \n",
    "        return self.solution\n",
    "    #*****************************************************************************************************\n",
    "    #End of greedy insertion\n",
    "\n",
    "    #*****************************************************************************************************\n",
    "    #Start of regret insertion\n",
    "    def regret_insertion(self, removed_pairs, k):\n",
    "        unremoved_pairs = []\n",
    "        while removed_pairs:\n",
    "            insertion_costs = []\n",
    "            for pickup, delivery in removed_pairs: # iterate every pair\n",
    "                costs = []\n",
    "                for vehicle_id, route in enumerate(self.solution.routes): # iterate every route\n",
    "                    min_cost = float('inf')\n",
    "                    for i in range(1, len(route)):\n",
    "                        for j in range(i, len(route)):\n",
    "                            temp_route = route[:i] + [pickup] + route[i:j] + [delivery] + route[j:]\n",
    "                            temp_solution = deepcopy(self.solution)\n",
    "                            temp_solution.routes[vehicle_id] = temp_route\n",
    "                            temp_solution.update_all()\n",
    "\n",
    "                            if temp_solution.is_feasible():\n",
    "                                cost = temp_solution.objective_function()\n",
    "                                if cost < min_cost:\n",
    "                                    min_cost = cost\n",
    "                                    best_i, best_j = i,j\n",
    "                    \n",
    "                    if min_cost < float('inf'):\n",
    "                        costs.append((min_cost, vehicle_id, best_i, best_j))\n",
    "                costs.sort(key=lambda x:x[0])\n",
    "                insertion_costs.append((pickup, delivery, costs))\n",
    "\n",
    "            \n",
    "            best_request = None\n",
    "            best_route = None\n",
    "            best_insert_position = None\n",
    "            for pickup, delivery, costs in insertion_costs:\n",
    "                # 无法被插入到任何路径，直接跳过\n",
    "                if len(costs) == 0:\n",
    "                    removed_pairs.remove((pickup, delivery))\n",
    "                    unremoved_pairs.append((pickup, delivery))\n",
    "                    continue\n",
    "                # 处理插入机会少于k的请求\n",
    "                if len(costs) > 0 and len(costs) < k:\n",
    "                    best_request =  (pickup, delivery)\n",
    "                    best_route = costs[0][1]\n",
    "                    best_insert_position = (costs[0][2], costs[0][3])\n",
    "                    break\n",
    "            \n",
    "            # 如果没有插入机会少于k的请求，则选择最大遗憾值的请求\n",
    "            if best_request is None:\n",
    "                max_regret = float('-inf')\n",
    "                for pickup, delivery, costs in insertion_costs:\n",
    "                    regret = sum(cost[0] for cost in costs[:k]) - costs[0][0]\n",
    "                    if regret > max_regret:\n",
    "                        max_regret = regret\n",
    "                        best_request = (pickup, delivery)\n",
    "                        best_route = costs[0][1]\n",
    "                        best_insert_position = (costs[0][2], costs[0][3])   \n",
    "\n",
    "            # 插入最佳请求\n",
    "            if best_request is not None and best_route is not None and best_insert_position is not None:\n",
    "                removed_pairs.remove(best_request)\n",
    "                pickup, delivery = best_request\n",
    "                self.insert_single_request(pickup, delivery, best_route, best_insert_position)\n",
    "        \n",
    "        removed_pairs = unremoved_pairs\n",
    "        return self.solution\n",
    "        \n",
    "    #*****************************************************************************************************\n",
    "    #End of regret insertion\n",
    "    def insert_single_request(self, pickup, delivery, vehicle_id, insert_position):\n",
    "        i, j = insert_position\n",
    "        self.solution.routes[vehicle_id] = self.solution.routes[vehicle_id][:i] \\\n",
    "                                           + [pickup] + self.solution.routes[vehicle_id][i:j] + [delivery] \\\n",
    "                                           + self.solution.routes[vehicle_id][j:]\n",
    "        self.solution.update_all() # update all of the things\n",
    "        self.record_insertion(vehicle_id, pickup, delivery, insert_position)  # 记录插入位置\n",
    "    \n",
    "    def record_insertion(self, vehicle_id, pickup, delivery, position):\n",
    "        \"\"\"\n",
    "        记录插入位置\n",
    "        vehicle_id: 车辆ID\n",
    "        pickup: 取货点\n",
    "        delivery: 送货点\n",
    "        position: 插入位置 (i, j)\n",
    "        \"\"\"\n",
    "        self.insertion_log.append({\n",
    "        'vehicle_id': vehicle_id,\n",
    "        'pickup': pickup,\n",
    "        'delivery': delivery,\n",
    "        'position': position\n",
    "        })\n",
    "\n",
    "    def get_insertion_log(self):\n",
    "        \"\"\"\n",
    "        获取插入日志\n",
    "        :return: 插入日志\n",
    "        \"\"\"\n",
    "        return self.insertion_log"
   ]
  },
  {
   "cell_type": "markdown",
   "metadata": {},
   "source": [
    "# test"
   ]
  },
  {
   "cell_type": "code",
   "execution_count": 3,
   "metadata": {},
   "outputs": [],
   "source": [
    "import random\n",
    "import numpy as np\n",
    "from copy import deepcopy\n",
    "from instance import PDPTWInstance\n",
    "from solution import PDPTWSolution\n",
    "from solver import greedy_insertion_init\n",
    "from operators import RemovalOperators\n",
    "\n",
    "# 参数设置\n",
    "n = 10  # pickup点的数量\n",
    "map_size = 2  # 地图大小\n",
    "speed = 4  # 车辆速度\n",
    "extra_time = 10  # delivery点时间窗口起始时间的额外时间\n",
    "num_vehicles = 5  # 车辆数量\n",
    "vehicle_capacity = 5  # 车辆容量\n",
    "battery_capacity = 240  # 电池容量\n",
    "battery_consume_rate = 1  # 电池消耗率\n",
    "gamma = 100\n",
    "\n",
    "instance = PDPTWInstance(n, map_size, speed, extra_time, gamma, seed=1234)\n",
    "initial_solution = greedy_insertion_init(instance, num_vehicles, vehicle_capacity, battery_capacity, battery_consume_rate)\n",
    "removal_operators = RemovalOperators(initial_solution)\n",
    "removed_solution = removal_operators.shaw_removal(num_remove=3,p=3)"
   ]
  },
  {
   "cell_type": "code",
   "execution_count": 4,
   "metadata": {},
   "outputs": [
    {
     "data": {
      "text/plain": [
       "[(3, 13), (5, 15), (7, 17)]"
      ]
     },
     "execution_count": 4,
     "metadata": {},
     "output_type": "execute_result"
    }
   ],
   "source": [
    "removed_solution.unvisited_requests"
   ]
  },
  {
   "cell_type": "code",
   "execution_count": 5,
   "metadata": {},
   "outputs": [
    {
     "data": {
      "text/plain": [
       "[[0, 7, 6, 17, 16, 8, 4, 14, 18, 9, 19, 0],\n",
       " [0, 2, 12, 5, 15, 10, 20, 0],\n",
       " [0, 3, 1, 13, 11, 0],\n",
       " [0, 0],\n",
       " [0, 0]]"
      ]
     },
     "execution_count": 5,
     "metadata": {},
     "output_type": "execute_result"
    }
   ],
   "source": [
    "repair_operators = RepairOperators(removed_solution)\n",
    "repair_solution = repair_operators.regret_insertion(removed_requests,k=3)\n",
    "repair_solution.routes"
   ]
  },
  {
   "cell_type": "code",
   "execution_count": 26,
   "metadata": {},
   "outputs": [
    {
     "data": {
      "text/plain": [
       "[{'vehicle_id': 2, 'pickup': 3, 'delivery': 13, 'position': (1, 2)},\n",
       " {'vehicle_id': 1, 'pickup': 5, 'delivery': 15, 'position': (3, 3)},\n",
       " {'vehicle_id': 0, 'pickup': 7, 'delivery': 17, 'position': (1, 2)}]"
      ]
     },
     "execution_count": 26,
     "metadata": {},
     "output_type": "execute_result"
    }
   ],
   "source": [
    "repair_operators.insertion_log"
   ]
  },
  {
   "cell_type": "code",
   "execution_count": 6,
   "metadata": {},
   "outputs": [
    {
     "data": {
      "text/plain": [
       "[]"
      ]
     },
     "execution_count": 6,
     "metadata": {},
     "output_type": "execute_result"
    }
   ],
   "source": [
    "repair_solution.unvisited_requests"
   ]
  }
 ],
 "metadata": {
  "kernelspec": {
   "display_name": "Python 3",
   "language": "python",
   "name": "python3"
  },
  "language_info": {
   "codemirror_mode": {
    "name": "ipython",
    "version": 3
   },
   "file_extension": ".py",
   "mimetype": "text/x-python",
   "name": "python",
   "nbconvert_exporter": "python",
   "pygments_lexer": "ipython3",
   "version": "3.11.3"
  }
 },
 "nbformat": 4,
 "nbformat_minor": 2
}
